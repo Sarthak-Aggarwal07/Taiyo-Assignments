{
 "cells": [
  {
   "cell_type": "code",
   "execution_count": 13,
   "id": "654600c3",
   "metadata": {},
   "outputs": [],
   "source": [
    "from bs4 import BeautifulSoup\n",
    "import requests\n",
    "\n",
    "from bs4 import BeautifulSoup\n",
    "import requests\n",
    "import pandas as pd\n",
    "import numpy as np"
   ]
  },
  {
   "cell_type": "code",
   "execution_count": 16,
   "id": "6ad120c6",
   "metadata": {},
   "outputs": [],
   "source": [
    "class Web_Scraping:\n",
    "    \n",
    "    def Beautiful_Soup(self):\n",
    "        # Fetch the webpage and store in a response.\n",
    "        response = requests.get(\"https://etenders.gov.in/eprocure/app\")\n",
    "        html_data = response.text\n",
    "        # Parse the page using BeautifulSoup\n",
    "        data = BeautifulSoup(html_data,\"html.parser\")\n",
    "\n",
    "        # create list of all columns and put extra column name link.\n",
    "        column_name = []\n",
    "        a = data.find_all(\"th\")\n",
    "        for i in a:\n",
    "            column_name.append(i.get_text())\n",
    "        column_name.append(\"link\")\n",
    "\n",
    "        # create list of all data and store the data in result. \n",
    "        result = []\n",
    "        tbody = data.find(\"tbody\")\n",
    "        if tbody:\n",
    "            a = tbody.findAll(\"tr\")\n",
    "            for i in a:\n",
    "                ID = i.a[\"href\"].split(\"/\")[-1]\n",
    "                name = i.find_all(\"td\")[1].text\n",
    "                date = i.find_all(\"td\")[2].contents[0]\n",
    "                link = i.a[\"href\"]\n",
    "                row = [ID,name,date,link]\n",
    "                result.append(row)\n",
    "\n",
    "\n",
    "        # Create a DataFrame\n",
    "        df = pd.DataFrame(result,columns =column_name)\n",
    "\n",
    "        # Store all data in to csv file\n",
    "\n",
    "        df.to_csv('Taiyo_assing.csv', sep=',', index=False,header=True)\n",
    "        # print the dataframe\n",
    "        display(df)\n",
    "        print(\"Web Scraping Successful!\")"
   ]
  },
  {
   "cell_type": "code",
   "execution_count": 17,
   "id": "2266a3f3",
   "metadata": {},
   "outputs": [
    {
     "data": {
      "text/html": [
       "<div>\n",
       "<style scoped>\n",
       "    .dataframe tbody tr th:only-of-type {\n",
       "        vertical-align: middle;\n",
       "    }\n",
       "\n",
       "    .dataframe tbody tr th {\n",
       "        vertical-align: top;\n",
       "    }\n",
       "\n",
       "    .dataframe thead th {\n",
       "        text-align: right;\n",
       "    }\n",
       "</style>\n",
       "<table border=\"1\" class=\"dataframe\">\n",
       "  <thead>\n",
       "    <tr style=\"text-align: right;\">\n",
       "      <th></th>\n",
       "      <th>link</th>\n",
       "    </tr>\n",
       "  </thead>\n",
       "  <tbody>\n",
       "  </tbody>\n",
       "</table>\n",
       "</div>"
      ],
      "text/plain": [
       "Empty DataFrame\n",
       "Columns: [link]\n",
       "Index: []"
      ]
     },
     "metadata": {},
     "output_type": "display_data"
    },
    {
     "name": "stdout",
     "output_type": "stream",
     "text": [
      "Web Scraping Successful!\n"
     ]
    }
   ],
   "source": [
    "obj = Web_Scraping()\n",
    "obj.Beautiful_Soup()"
   ]
  },
  {
   "cell_type": "code",
   "execution_count": null,
   "id": "9b705ee8",
   "metadata": {},
   "outputs": [],
   "source": []
  },
  {
   "cell_type": "code",
   "execution_count": null,
   "id": "fe459fce",
   "metadata": {},
   "outputs": [],
   "source": []
  },
  {
   "cell_type": "code",
   "execution_count": null,
   "id": "d93d6120",
   "metadata": {},
   "outputs": [],
   "source": []
  }
 ],
 "metadata": {
  "kernelspec": {
   "display_name": "Python 3 (ipykernel)",
   "language": "python",
   "name": "python3"
  },
  "language_info": {
   "codemirror_mode": {
    "name": "ipython",
    "version": 3
   },
   "file_extension": ".py",
   "mimetype": "text/x-python",
   "name": "python",
   "nbconvert_exporter": "python",
   "pygments_lexer": "ipython3",
   "version": "3.9.7"
  }
 },
 "nbformat": 4,
 "nbformat_minor": 5
}
